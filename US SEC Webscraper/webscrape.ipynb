{
 "cells": [
  {
   "cell_type": "code",
   "execution_count": 1,
   "metadata": {},
   "outputs": [],
   "source": [
    "import selenium\n",
    "from selenium import webdriver\n",
    "from selenium.webdriver.chrome.service import Service\n",
    "from selenium.webdriver.chrome.options import Options\n",
    "from selenium.webdriver.common.by import By\n",
    "from selenium.webdriver.common.keys import Keys\n",
    "from selenium.common.exceptions import NoSuchElementException\n",
    "from selenium.webdriver.support.ui import WebDriverWait\n",
    "from selenium.webdriver.support import expected_conditions as EC\n",
    "from getpass import getpass\n",
    "from time import sleep\n",
    "import csv\n",
    "\n",
    "import pandas as pd"
   ]
  },
  {
   "cell_type": "code",
   "execution_count": 2,
   "metadata": {},
   "outputs": [],
   "source": [
    "def web_scrapper(cik):\n",
    "    '''This function automtically gathers the 10-K report of a given CIK'''\n",
    "\n",
    "    #Open the webpage and maximize window\n",
    "    options = Options()\n",
    "    options.add_experimental_option('detach', True)\n",
    "\n",
    "    driver = webdriver.Chrome(options=options)\n",
    "\n",
    "    driver.get(\"https://www.sec.gov/edgar/search/#\")\n",
    "    driver.maximize_window()\n",
    "\n",
    "\n",
    "    def search_file(cik):\n",
    "        #Fill in the details for the company and report needed\n",
    "\n",
    "        search_options = driver.find_element(By.XPATH, './/a[@id=\"show-full-search-form\"]')\n",
    "        search_options.click()\n",
    "\n",
    "        #Name of the document\n",
    "        document_name = 'Annual Report'\n",
    "        document_box = driver.find_element(By.XPATH, './/input[@id= \"keywords\"]')\n",
    "        document_box.send_keys(document_name)\n",
    "\n",
    "        #CIK of the company\n",
    "        cik_box = driver.find_element(By.XPATH, './/input[@id=\"entity-full-form\"]')\n",
    "        cik_box.send_keys(cik)\n",
    "\n",
    "        #Filling Category\n",
    "        filling_button = driver.find_element(By.XPATH, './/button[@id=\"category-select\"]')\n",
    "        filling_button.click()\n",
    "        reports_option = driver.find_element(By.XPATH, './/li[contains(., \"All annual\")]')\n",
    "        reports_option.click()\n",
    "        sleep(3)\n",
    "\n",
    "        #Initiate Search\n",
    "        search_button = driver.find_element(By.XPATH, './/button[@id=\"search\"]')\n",
    "        search_button.send_keys(Keys.ENTER)\n",
    "    try:\n",
    "        search_file(cik)\n",
    "    except NoSuchElementException:\n",
    "        return\n",
    "\n",
    "    def open_browser():\n",
    "        try:\n",
    "            #Get the contents form the table returned by the search\n",
    "            files = driver.find_elements(By.XPATH, './/a[@href][contains(., \"10-K\")]')\n",
    "            latest_report = files[1]\n",
    "            latest_report.click()\n",
    "            \n",
    "        except IndexError:\n",
    "            return\n",
    "        #Open a new window to the file directory\n",
    "        open_file = driver.find_element(By.XPATH, './/button[contains(., \"Open filing\")]')\n",
    "        open_file.click()\n",
    "        driver.switch_to.window(driver.window_handles[-1])\n",
    "    try:\n",
    "        open_browser()\n",
    "    except NoSuchElementException:\n",
    "        return\n",
    "\n",
    "    def open_file():\n",
    "        #Get file from the directory\n",
    "        file = driver.find_element(By.XPATH, './/div[@id=\"PageTitle\"]').text\n",
    "        file = driver.find_element(By.XPATH, './/table[@class=\"tableFile\"]/tbody/tr[2]/td[3]/a[@href]')\n",
    "        file.click()\n",
    "\n",
    "        sleep(1)    \n",
    "        content = driver.find_element(By.XPATH, './/div[@class=\"reboot main-container\"]/div[@id=\"dynamic-xbrl-form\"]').text\n",
    "        return content\n",
    "    \n",
    "    try:\n",
    "        content = open_file()\n",
    "    except NoSuchElementException:\n",
    "        return\n",
    "    \n",
    "    return content"
   ]
  },
  {
   "cell_type": "code",
   "execution_count": 3,
   "metadata": {},
   "outputs": [],
   "source": [
    "text = web_scrapper('CIK 0000320193')"
   ]
  },
  {
   "cell_type": "code",
   "execution_count": 4,
   "metadata": {},
   "outputs": [
    {
     "data": {
      "text/plain": [
       "'UNITED STATES\\nSECURITIES AND EXCHANGE COMMISSION\\nWashington, D.C. 20549\\nFORM 10-K\\n(Mark One)\\n☒ ANNUAL REPORT PURSUANT TO SECTION 13 OR 15(d) OF THE SECURITIES EXCHANGE ACT OF 1934\\nFor the fiscal year ended September 24, 2022\\nor\\n☐ TRANSITION REPORT PURSUANT TO SECTION 13 OR 15(d) OF THE SECURITIES EXCHANGE ACT OF 1934\\nFor the transition period from              to             .\\nCommission File Number: 001-36743\\nApple Inc.\\n(Exact name of Registrant as specified in its charter)\\nCalifornia 94-2404110\\n(State or other jurisdiction\\nof incorporation or organization)\\n(I.R.S. Employer Identification No.)\\nOne Apple Park Way\\nCupertino, California\\n95014\\n(Address of principal executive offices) (Zip Code)\\n(408) 996-1010\\n(Registrant’s telephone number, including area code)\\nSecurities registered pursuant to Section 12(b) of the Act:\\nTitle of each class\\nTrading symbol(s)\\nName of each exchange on which registered\\nCommon Stock, $0.00001 par value per share\\nAAPL\\nThe Nasdaq Stock Market LLC\\n1.000% Notes due 2022\\n—\\nThe Nasdaq Stock Market LLC\\n1.375% Notes due 2024\\n—\\nThe Nasdaq Stock Market LLC\\n0.000% Notes due 2025\\n—\\nThe Nasdaq Stock Market LLC\\n0.875% Notes due 2025\\n—\\nThe Nasdaq Stock Market LLC\\n1.625% Notes due 2026\\n—\\nThe Nasdaq Stock Market LLC\\n2.000% Notes due 2027\\n—\\nThe Nasdaq Stock Market LLC\\n1.375% Notes due 2029\\n—\\nThe Nasdaq Stock Market LLC\\n3.050% Notes due 2029\\n—\\nThe Nasdaq Stock Market LLC\\n0.500% Notes due 2031\\n—\\nThe Nasdaq Stock Market LLC\\n3.600% Notes due 2042\\n—\\nThe Nasdaq Stock Market LLC\\nSecurities registered pursuant to Section 12(g) of the Act: None\\nIndicate by check mark if the Registrant is a well-known seasoned issuer, as defined in Rule 405 of the Securities Act.\\nYes  ☒     No  ☐\\nIndicate by check mark if the Registrant is not required to file reports pursuant to Section 13 or Section 15(d) of the Act.\\nYes  ☐     No  ☒\\n\\nIndicate by check mark whether the Registrant (1) has filed all reports required to be filed by Section 13 or 15(d) of the Securities Exchange Act of 1934 during the preceding 12 months (or for such shorter period that the Registrant was required to file such reports), and (2) has been subject to such filing requirements for the past 90 days.\\nYes  ☒     No  ☐\\nIndicate by check mark whether the Registrant has submitted electronically every Interactive Data File required to be submitted pursuant to Rule 405 of Regulation S-T (§232.405 of this chapter) during the preceding 12 months (or for such shorter period that the Registrant was required to submit such files).\\nYes  ☒     No  ☐\\nIndicate by check mark whether the Registrant is a large accelerated filer, an accelerated filer, a non-accelerated filer, a smaller reporting company, or an emerging growth company. See the definitions of “large accelerated filer,” “accelerated filer,” “smaller reporting company,” and “emerging growth company” in Rule 12b-2 of the Exchange Act.\\nLarge accelerated filer ☒ Accelerated filer ☐\\nNon-accelerated filer ☐ Smaller reporting company ☐\\nEmerging growth '"
      ]
     },
     "execution_count": 4,
     "metadata": {},
     "output_type": "execute_result"
    }
   ],
   "source": [
    "text[:3000]"
   ]
  },
  {
   "cell_type": "code",
   "execution_count": 6,
   "metadata": {},
   "outputs": [],
   "source": [
    "file = open('10-k_file.txt', 'w')\n",
    "for item in text:\n",
    "    file.write(item)\n",
    "file.close()"
   ]
  },
  {
   "cell_type": "code",
   "execution_count": null,
   "metadata": {},
   "outputs": [],
   "source": []
  }
 ],
 "metadata": {
  "kernelspec": {
   "display_name": "Fin_Project",
   "language": "python",
   "name": "python3"
  },
  "language_info": {
   "codemirror_mode": {
    "name": "ipython",
    "version": 3
   },
   "file_extension": ".py",
   "mimetype": "text/x-python",
   "name": "python",
   "nbconvert_exporter": "python",
   "pygments_lexer": "ipython3",
   "version": "3.10.12"
  },
  "orig_nbformat": 4
 },
 "nbformat": 4,
 "nbformat_minor": 2
}
