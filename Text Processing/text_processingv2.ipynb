{
 "cells": [
  {
   "cell_type": "markdown",
   "metadata": {},
   "source": [
    "# Loading Dependencies"
   ]
  },
  {
   "cell_type": "code",
   "execution_count": 1,
   "metadata": {},
   "outputs": [],
   "source": [
    "import re\n",
    "import pandas as pd"
   ]
  },
  {
   "cell_type": "code",
   "execution_count": 2,
   "metadata": {},
   "outputs": [],
   "source": [
    "# Load the data gathered using the webscraping script\n",
    "\n",
    "with open('10-k_file.txt', 'r') as file:\n",
    "    raw_10k = file.read()"
   ]
  },
  {
   "cell_type": "markdown",
   "metadata": {},
   "source": [
    "# Applying REGEX to Find Relevant Sections"
   ]
  },
  {
   "cell_type": "code",
   "execution_count": 30,
   "metadata": {},
   "outputs": [],
   "source": [
    "def content_sections(text_file):\n",
    "    ''' This function takes in a 10K text file and separates the \n",
    "    text content into different sections for analysis\n",
    "    '''\n",
    "\n",
    "    # Create a list of all the regex patters for the needed sections\n",
    "    item1_pattern = re.compile(r'Item\\s+1.\\s+Business')\n",
    "    item1a_pattern = re.compile(r'Item\\s+1A.\\s+Risk\\s+Factors')\n",
    "    item7_pattern = re.compile(r\"Item\\s+7.\\s+Management’s\\s+Discussion\\s+and\\s+Analysis\\s+of\\s+Financial\\s+Condition\\s+and\\s+Results\\s+of\\s+Operations\")\n",
    "    item7a_pattern = re.compile(r\"Item\\s+7A.\\s+Quantitative\\s+and\\s+Qualitative\\s+Disclosures\\s+About\\s+Market\\s+Risk\")\n",
    "    item8_pattern = re.compile(r\"Item\\s+8.\\s+Financial\\s+Statements\\s+and\\s+Supplementary\\s+Data\")\n",
    "    item10_pattern = re.compile(r\"Item\\s+10.\\s+Directors,\\s+Executive\\s+Officers\\s+and\\s+Corporate\\s+Governance\")\n",
    "    item11_pattern = re.compile(r\"Item\\s+11.\\s+Executive\\s+Compensation\")\n",
    "\n",
    "    # Make a list of all the patterns for each section and the sections in the text that will match it\n",
    "\n",
    "    #List of patterns for each section\n",
    "    patterns = [item1_pattern, item1a_pattern, item7_pattern, item7a_pattern, item8_pattern, item10_pattern, item11_pattern]\n",
    "    #List of sections that match the patterns\n",
    "    matches = ['item1_matches', 'item1a_matches', 'item7_matches', 'item7a_matches', 'item8_matches', 'item10_matches', 'item11_matches'] \n",
    "\n",
    "    # Loop through all the patterns and store the matching section into test_df\n",
    "    test_dfs = []\n",
    "    for pattern, item_matches in zip(patterns, matches):\n",
    "        item_matches = pattern.finditer(raw_10k)\n",
    "        for match in item_matches:\n",
    "            print(match)\n",
    "            test_df = pd.DataFrame({'Section':match.group(), 'Start': match.start(), 'End': match.end()}, index=[0])\n",
    "            test_dfs.append(test_df)\n",
    "    \n",
    "    # Concatenate all the dataframes into one dataframe and \n",
    "    # sort the values according to their order in the text file\n",
    "    merged_df = pd.concat(test_dfs)\n",
    "    merged_df = merged_df.sort_values(by='Start')\n",
    "    merged_df.set_index('Section', inplace=True)\n",
    "\n",
    "    # Create the separate sections\n",
    "    Business = raw_10k[merged_df['Start'].loc['Item 1.    Business']: merged_df['End'].loc['Item 1A.    Risk Factors']]\n",
    "    Risk_Factors = raw_10k[merged_df['Start'].loc['Item 1A.    Risk Factors']: merged_df['End'].loc['Item 7.    Management’s Discussion and Analysis of Financial Condition and Results of Operations']]\n",
    "    MDA = raw_10k[merged_df['Start'].loc['Item 7.    Management’s Discussion and Analysis of Financial Condition and Results of Operations']: merged_df['End'].loc['Item 7A.    Quantitative and Qualitative Disclosures About Market Risk']]\n",
    "    Market_Risk = raw_10k[merged_df['Start'].loc['Item 7A.    Quantitative and Qualitative Disclosures About Market Risk']: merged_df['End'].loc['Item 8.    Financial Statements and Supplementary Data']]\n",
    "    Fin_Statements = raw_10k[merged_df['Start'].loc['Item 8.    Financial Statements and Supplementary Data']: merged_df['End'].loc['Item 10.    Directors, Executive Officers and Corporate Governance']]\n",
    "    DEOC = raw_10k[merged_df['Start'].loc['Item 10.    Directors, Executive Officers and Corporate Governance']:merged_df['End'].loc['Item 11.    Executive Compensation']]\n",
    "\n",
    "    # Store the sections and their contents into a dataframe\n",
    "    df_10K = pd.DataFrame({\n",
    "        'Company Name': 'Apple Inc.',\n",
    "        'TIC': 'AAPL',\n",
    "        'CIK': '0000320193', \n",
    "        'Business' : Business,\n",
    "        'Risk Factors': Risk_Factors,\n",
    "        'MDA': MDA,\n",
    "        'Market Risk' : Market_Risk,\n",
    "        'Financial Statements': Fin_Statements,\n",
    "        'DEOC': DEOC\n",
    "    }, index=[0])\n",
    "\n",
    "    df_10K.to_csv('text_content_10k.csv')\n",
    "\n",
    "    return\n"
   ]
  },
  {
   "cell_type": "code",
   "execution_count": 31,
   "metadata": {},
   "outputs": [
    {
     "name": "stdout",
     "output_type": "stream",
     "text": [
      "<re.Match object; span=(4939, 4955), match='Item 1.\\nBusiness'>\n",
      "<re.Match object; span=(8158, 8177), match='Item 1.    Business'>\n",
      "<re.Match object; span=(4958, 4979), match='Item 1A.\\nRisk Factors'>\n",
      "<re.Match object; span=(22808, 22832), match='Item 1A.    Risk Factors'>\n",
      "<re.Match object; span=(5256, 5349), match='Item 7.\\nManagement’s Discussion and Analysis of >\n",
      "<re.Match object; span=(99000, 99096), match='Item 7.    Management’s Discussion and Analysis o>\n",
      "<re.Match object; span=(5353, 5420), match='Item 7A.\\nQuantitative and Qualitative Disclosure>\n",
      "<re.Match object; span=(116651, 116721), match='Item 7A.    Quantitative and Qualitative Disclosu>\n",
      "<re.Match object; span=(5424, 5475), match='Item 8.\\nFinancial Statements and Supplementary D>\n",
      "<re.Match object; span=(123403, 123457), match='Item 8.    Financial Statements and Supplementary>\n",
      "<re.Match object; span=(5730, 5793), match='Item 10.\\nDirectors, Executive Officers and Corpo>\n",
      "<re.Match object; span=(201151, 201217), match='Item 10.    Directors, Executive Officers and Cor>\n",
      "<re.Match object; span=(5797, 5828), match='Item 11.\\nExecutive Compensation'>\n",
      "<re.Match object; span=(201556, 201590), match='Item 11.    Executive Compensation'>\n"
     ]
    }
   ],
   "source": [
    "get_conent = content_sections(raw_10k)"
   ]
  }
 ],
 "metadata": {
  "kernelspec": {
   "display_name": "Fin_Project",
   "language": "python",
   "name": "python3"
  },
  "language_info": {
   "codemirror_mode": {
    "name": "ipython",
    "version": 3
   },
   "file_extension": ".py",
   "mimetype": "text/x-python",
   "name": "python",
   "nbconvert_exporter": "python",
   "pygments_lexer": "ipython3",
   "version": "3.10.12"
  },
  "orig_nbformat": 4
 },
 "nbformat": 4,
 "nbformat_minor": 2
}
